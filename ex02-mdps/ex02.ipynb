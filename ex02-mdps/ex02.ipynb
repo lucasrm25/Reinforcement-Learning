{
 "cells": [
  {
   "cell_type": "markdown",
   "metadata": {},
   "source": [
    "Expected immediate reward \n",
    "$$\n",
    "\\begin{align}\n",
    "    \\mathbb E[R_{t+1}|s] &= \\sum_{r} p(r|s) r \\\\\n",
    "    &= \\sum_{r,s',a} \\, p(r,s',a|s) r \\\\\n",
    "    &= \\sum_{r,s',a} \\, p(a|s) p(r|s',a,s) \\, p(s'|s,a) \\, r \\\\\n",
    "    &= \\sum_{s',a} p(a|s) \\, p(s'|s,a) \\; \\sum_{r}  p(r|s',a,s) \\, r \\\\\n",
    "    &= \\sum_{s',a} p(a|s) \\, p(s'|s,a) \\; \\underbrace{\\mathbb E[R_{t+1}|s',a,s]}_{r(s',a,s)}\n",
    "\\end{align}\n",
    "$$\n",
    "\n",
    "$$\n",
    "\\begin{align}\n",
    "    \\mathbb E[R_{t+1}|s] &= \\sum_{s',a} p(s',a|s) \\, \\mathbb E[R_{t+1}|s',a,s]  \\\\\n",
    "    &= \\sum_{s',a} p(a|s) \\, p(s'|s,a) \\, \\mathbb E[R_{t+1}|s',a,s] \n",
    "\\end{align}\n",
    "$$"
   ]
  },
  {
   "cell_type": "markdown",
   "metadata": {},
   "source": [
    "Value function\n",
    "$$\n",
    "\\begin{align}\n",
    "    v_\\pi(s) &= E[G_{t}|s] \\\\\n",
    "    &= E[R_{t+1} + \\gamma G_{t+1}|s] \\\\\n",
    "    &= \\sum_{s',a} p(a|s) \\, p(s'|s,a) \\, \\left[ \\mathbb E[R_{t+1}|s',a,s] + \\gamma \\mathbb E[G_{t+1}|s',a,s] \\right] \\\\\n",
    "    &= \\sum_{s',a} p(a|s) \\, p(s'|s,a) \\, \\left[ r(s',a,s) + \\gamma \\, v_\\pi(s') \\right] \n",
    "\\end{align}\n",
    "$$"
   ]
  },
  {
   "cell_type": "code",
   "execution_count": null,
   "metadata": {},
   "outputs": [],
   "source": []
  }
 ],
 "metadata": {
  "language_info": {
   "codemirror_mode": {
    "name": "ipython",
    "version": 3
   },
   "file_extension": ".py",
   "mimetype": "text/x-python",
   "name": "python",
   "nbconvert_exporter": "python",
   "pygments_lexer": "ipython3",
   "version": 3
  },
  "orig_nbformat": 2
 },
 "nbformat": 4,
 "nbformat_minor": 2
}